{
 "cells": [
  {
   "cell_type": "code",
   "execution_count": 2,
   "metadata": {
    "scrolled": true
   },
   "outputs": [
    {
     "name": "stdout",
     "output_type": "stream",
     "text": [
      "['elephent', 'ant', 'dog', 'cat']\n",
      "['elephent', 'dolphin', 'ant', 'dog', 'cat']\n",
      "['elephent', 'dolphin', 'ant', 'dog']\n"
     ]
    }
   ],
   "source": [
    "# 1\n",
    "animals = ['elephent', 'ant', 'dog']\n",
    "\n",
    "animals.append(\"cat\")\n",
    "print (animals)\n",
    "\n",
    "animals.insert(1, \"dolphin\")\n",
    "print (animals)\n",
    "\n",
    "del animals[-1]\n",
    "print (animals)"
   ]
  },
  {
   "cell_type": "code",
   "execution_count": 3,
   "metadata": {},
   "outputs": [
    {
     "name": "stdout",
     "output_type": "stream",
     "text": [
      "['My', 'name', 'is', 'Hoang']\n"
     ]
    }
   ],
   "source": [
    "# 2\n",
    "list1 = [\"M\", \"na\", \"i\", \"Hoa\"]\n",
    "list2 = [\"y\", \"me\", \"s\", \"ng\"]\n",
    "output = []\n",
    "\n",
    "for x in range(0, len(list1)):\n",
    "    output.append(list1[x] + list2[x])\n",
    "print (output)\n"
   ]
  },
  {
   "cell_type": "code",
   "execution_count": 4,
   "metadata": {},
   "outputs": [
    {
     "name": "stdout",
     "output_type": "stream",
     "text": [
      "['Mike', 'Emma', 'Kelly', 'Brad']\n",
      "['Mike', 'Emma', 'Kelly', 'Brad']\n"
     ]
    }
   ],
   "source": [
    "# 3\n",
    "input = [\"Mike\", \"\", \"\", \"\", \"Emma\", \"\", \"Kelly\", \"\",\"\", \"Brad\"]\n",
    "output = []\n",
    "\n",
    "for x in input:\n",
    "    if x != \"\":\n",
    "        output.append(x)\n",
    "print (output)\n",
    "\n",
    "output = [x for x in input if x != \"\"]\n",
    "print (output)"
   ]
  },
  {
   "cell_type": "code",
   "execution_count": 5,
   "metadata": {},
   "outputs": [
    {
     "name": "stdout",
     "output_type": "stream",
     "text": [
      "True\n"
     ]
    }
   ],
   "source": [
    "# 4\n",
    "tuple1 = (10, 10, 10, 10)\n",
    "\n",
    "if len(tuple1) != len(set(tuple1)):\n",
    "    print (\"True\")\n",
    "    True\n",
    "else:\n",
    "    print (\"False\")\n",
    "    False "
   ]
  },
  {
   "cell_type": "code",
   "execution_count": 6,
   "metadata": {},
   "outputs": [
    {
     "name": "stdout",
     "output_type": "stream",
     "text": [
      "{70, 40, 10, 50, 20, 60, 30}\n",
      "{40, 50, 30}\n",
      "{10, 20}\n"
     ]
    }
   ],
   "source": [
    "# 5\n",
    "set1 = {10, 20, 30, 40, 50}\n",
    "set2 = {30, 40, 50, 60, 70}\n",
    "\n",
    "output_a = set1 | set2\n",
    "print(output_a)\n",
    "\n",
    "output_b = set1 & set2\n",
    "print(output_b)\n",
    "\n",
    "output_c = set1 - set2\n",
    "print(output_c)\n"
   ]
  },
  {
   "cell_type": "code",
   "execution_count": 7,
   "metadata": {},
   "outputs": [
    {
     "name": "stdout",
     "output_type": "stream",
     "text": [
      "{'name': 'Tuan', 'age': 18, 'salary': 8000, 'city': 'Ha Noi', 'job': 'IT'}\n",
      "8000\n",
      "{'name': 'Tuan', 'salary': 8000, 'city': 'Ha Noi', 'job': 'IT'}\n",
      "{'name': 'Tuan', 'salary': 10000, 'city': 'Ha Noi', 'job': 'IT'}\n"
     ]
    }
   ],
   "source": [
    "# 6\n",
    "information = {\n",
    "\"name\": \"Tuan\",\n",
    "\"age\":18,\n",
    "\"salary\": 8000,\n",
    "\"city\": \"Ha Noi\"\n",
    "}\n",
    "\n",
    "information[\"job\"] = \"IT\"\n",
    "print(information)\n",
    "\n",
    "print(information.get(\"salary\"))\n",
    "\n",
    "\n",
    "del information[\"age\"]\n",
    "print(information)\n",
    "\n",
    "information[\"salary\"] = 10000\n",
    "print(information)"
   ]
  },
  {
   "cell_type": "code",
   "execution_count": 15,
   "metadata": {},
   "outputs": [
    {
     "name": "stdout",
     "output_type": "stream",
     "text": [
      "{'Ten': 10, 'Twenty': 20, 'Thirty': 30}\n"
     ]
    }
   ],
   "source": [
    "\n",
    "# 7\n",
    "keys = ['Ten', 'Twenty', 'Thirty']\n",
    "values = [10, 20, 30]\n",
    "output = {keys[a]: values[a] for a in range(len(keys))}\n",
    "print (output)\n"
   ]
  },
  {
   "cell_type": "code",
   "execution_count": 35,
   "metadata": {},
   "outputs": [
    {
     "name": "stdout",
     "output_type": "stream",
     "text": [
      "{1: 4, 2: 2, 3: 1, 4: 1}\n",
      "Nhieu nhat: 1\n",
      "It nhat:  3 4 \n",
      "Trung binh:  2.0\n"
     ]
    }
   ],
   "source": [
    "#8\n",
    "num = [1,2,3,1,2,1,1,4]\n",
    "dict_8 = {}\n",
    "for i in num:\n",
    "    a = num.count(i)\n",
    "    dict_8.update({i:a})\n",
    "print (dict_8)\n",
    "\n",
    "print(\"Nhieu nhat:\", max(dict_8.keys(), key=dict_8.get))\n",
    "print(\"It nhat: \", end = \" \")\n",
    "for key, value in dict_8.items():\n",
    "    if value == min(dict_8.values()):\n",
    "        print(key, end = \" \")\n",
    "       \n",
    "print(\"\\nTrung binh: \", sum(dict_8.values())/len(dict_8))"
   ]
  },
  {
   "cell_type": "code",
   "execution_count": 41,
   "metadata": {},
   "outputs": [
    {
     "name": "stdout",
     "output_type": "stream",
     "text": [
      "Nhap ten hoc sinh: Hoang\n",
      "8\n",
      "Nhap ten hoc sinh: Hoang\n",
      "Nhap diem hoc sinh: 5\n",
      "{'Hoang': 5, 'Giang beo': 7, 'Giang gay': 9, 'meomeo': 10}\n",
      "Min:  Hoang\n",
      "Max:  meomeo\n"
     ]
    }
   ],
   "source": [
    "# 9\n",
    "scores = {'Hoang': 8, 'Giang beo': 7, 'Giang gay': 9, 'meomeo': 10}\n",
    "x = str(input(\"Nhap ten hoc sinh: \"))\n",
    "if x in scores.keys():\n",
    "    print(scores.get(x))\n",
    "else:\n",
    "    print (\"Hoc sinh khong co trong lop\")\n",
    "\n",
    "y = input(\"Nhap ten hoc sinh: \")\n",
    "z = int(input(\"Nhap diem hoc sinh: \"))\n",
    "scores.update({y: z})\n",
    "print (scores)\n",
    "        \n",
    "print (\"Min: \",min(scores.keys(), key=scores.get))\n",
    "print (\"Max: \",max(scores.keys(), key=scores.get))\n"
   ]
  },
  {
   "cell_type": "code",
   "execution_count": 23,
   "metadata": {
    "scrolled": true
   },
   "outputs": [
    {
     "name": "stdout",
     "output_type": "stream",
     "text": [
      "Nhap ten san pham: Ao\n",
      "Nhap so luong san pham: 10\n",
      "Nhap ten san pham: Quan\n",
      "Nhap so luong san pham: 1\n",
      "Nhap ten san pham: Giay\n",
      "Nhap so luong san pham: 2\n",
      "Nhap ten san pham: end\n",
      "{'Ao': 10, 'Quan': 1, 'Giay': 2}\n",
      "Nhap ten san pham can in: Giay\n",
      "2\n",
      "Ao 10\n"
     ]
    }
   ],
   "source": [
    "# 10\n",
    "dict = {}\n",
    "while True:\n",
    "    ten = input (\"Nhap ten san pham: \")\n",
    "    if ten == \"end\":\n",
    "        break\n",
    "    so_luong = int(input (\"Nhap so luong san pham: \"))\n",
    "    if ten not in dict:\n",
    "       dict.update({ten: so_luong})\n",
    "    elif ten in dict:\n",
    "        a = dict.get(ten, so_luong) + so_luong\n",
    "        dict.update({ten: a})\n",
    "print(dict)\n",
    "\n",
    "a = input(\"Nhap ten san pham can in: \")\n",
    "if a in dict:\n",
    "    print (dict.get(a, so_luong))\n",
    "else:\n",
    "    print(\"Khong co san pham\")\n",
    "\n",
    "print(max(dict.keys(), key=dict.get), max(dict.values()))"
   ]
  },
  {
   "cell_type": "code",
   "execution_count": 42,
   "metadata": {
    "scrolled": true
   },
   "outputs": [
    {
     "name": "stdout",
     "output_type": "stream",
     "text": [
      "Nhap chuoi: ASDasd123!@#\n",
      "Ki tu thuong:  3 \n",
      "Hoa:  3 \n",
      "So:  3 \n",
      "Ki tu :  3\n"
     ]
    }
   ],
   "source": [
    "# #11\n",
    "chuoi = input (\"Nhap chuoi: \")\n",
    "thuong = 0\n",
    "hoa = 0 \n",
    "so = 0\n",
    "ki_tu = 0 \n",
    "for x in chuoi:\n",
    "    if x.islower():\n",
    "        thuong += 1 \n",
    "    elif x.isupper():\n",
    "        hoa += 1\n",
    "    elif x.isdigit():\n",
    "        so += 1\n",
    "    else:\n",
    "        ki_tu += 1\n",
    "print (\"Ki tu thuong: \", thuong, \"\\n\" \"Hoa: \", hoa, \"\\n\" \"So: \", so, \"\\n\" \"Ki tu : \", ki_tu)"
   ]
  },
  {
   "cell_type": "code",
   "execution_count": 44,
   "metadata": {},
   "outputs": [
    {
     "name": "stdout",
     "output_type": "stream",
     "text": [
      "Nhap chuoi: Nguyen The Hung\n",
      "{'N': 1, 'g': 2, 'u': 2, 'y': 1, 'e': 2, 'n': 2, ' ': 2, 'T': 1, 'h': 1, 'H': 1}\n"
     ]
    }
   ],
   "source": [
    "#12\n",
    "chuoi = input(\"Nhap chuoi: \")\n",
    "d = {}\n",
    "for x in chuoi:\n",
    "    if x in d:\n",
    "        d[x] += 1\n",
    "    else:\n",
    "        d[x] = 1\n",
    "print (d)\n"
   ]
  },
  {
   "cell_type": "code",
   "execution_count": 3,
   "metadata": {},
   "outputs": [
    {
     "name": "stdout",
     "output_type": "stream",
     "text": [
      "Nhap chuoi: Nguyen The Hung\n",
      "Nguye& The Hu&g\n"
     ]
    }
   ],
   "source": [
    "#13\n",
    "chuoi = input(\"Nhap chuoi: \")\n",
    "a = chuoi[0]\n",
    "b = chuoi[1:]\n",
    "b = b.replace(a, \"&\")\n",
    "b = b.replace(a.lower(), \"&\")\n",
    "b = b.replace(a.upper(), \"&\")\n",
    "print (a + b)\n"
   ]
  },
  {
   "cell_type": "code",
   "execution_count": 6,
   "metadata": {},
   "outputs": [
    {
     "name": "stdout",
     "output_type": "stream",
     "text": [
      "Nhap tu: stop\n",
      "stopping\n"
     ]
    }
   ],
   "source": [
    "#14\n",
    "x  =['u','i','o','e','a']\n",
    "tu = input (\"Nhap tu: \")\n",
    "if tu[-2:] == \"ie\":\n",
    "    print (tu[:-2] + \"y\" + \"ing\")\n",
    "elif tu[-1] == \"e\":\n",
    "    print (tu[:-1] + \"ing\")\n",
    "elif tu[-2] in x:\n",
    "    print (tu + tu[-1] + 'ing')\n",
    "else:\n",
    "    print (tu + \"ing\")"
   ]
  },
  {
   "cell_type": "code",
   "execution_count": 9,
   "metadata": {},
   "outputs": [
    {
     "name": "stdout",
     "output_type": "stream",
     "text": [
      "Nhap chuoi: asdf123asdf123\n",
      "Nhap ki tu: 123\n",
      "[4, 11]\n"
     ]
    }
   ],
   "source": [
    "#15\n",
    "def find_all(str, sub):\n",
    "    lis = []\n",
    "    if sub in str:\n",
    "        for i in range(len(str)):\n",
    "            if str.startswith(sub, i):\n",
    "                lis.append(i)\n",
    "    elif sub not in str:\n",
    "        print (\"khong co chuoi\")\n",
    "    print (lis)\n",
    "a = input(\"Nhap chuoi: \")\n",
    "b = input(\"Nhap ki tu: \")\n",
    "find_all(a, b)"
   ]
  },
  {
   "cell_type": "code",
   "execution_count": 14,
   "metadata": {},
   "outputs": [
    {
     "name": "stdout",
     "output_type": "stream",
     "text": [
      "Nhap chuoi: red, white, black, red, green, black\n",
      "black green red white\n"
     ]
    }
   ],
   "source": [
    "#17\n",
    "chuoi = input(\"Nhap chuoi: \").split(\", \")\n",
    "output = \" \".join(sorted(list(set(chuoi))))\n",
    "print (output)"
   ]
  },
  {
   "cell_type": "code",
   "execution_count": 16,
   "metadata": {},
   "outputs": [
    {
     "name": "stdout",
     "output_type": "stream",
     "text": [
      "Nhap chuoi: Nguyen ngOc HuY         hOANG\n",
      "Nguyen Ngoc Huy Hoang\n"
     ]
    }
   ],
   "source": [
    "#18\n",
    "chuoi = input(\"Nhap chuoi: \")\n",
    "output = \" \".join(chuoi.split()).title()\n",
    "print (output)"
   ]
  },
  {
   "cell_type": "code",
   "execution_count": null,
   "metadata": {},
   "outputs": [],
   "source": [
    "#19"
   ]
  },
  {
   "cell_type": "code",
   "execution_count": 49,
   "metadata": {},
   "outputs": [
    {
     "name": "stdout",
     "output_type": "stream",
     "text": [
      "Interface ethernet0 is up \n",
      "Interface ethernet1 is down \n",
      "Interface serial0 is down \n",
      "Interface serial1 is up\n",
      "2\n",
      "['ethernet0', 'serial1']\n"
     ]
    }
   ],
   "source": [
    "#20\n",
    "chuoi = 'Inteface ethernet0 is up \\nInteface ethernet1 is down \\nInteface serial0 is down \\nInteface serial1 is up'\n",
    "\n",
    "chuoi = chuoi.replace(\"Inteface\", \"Interface\")\n",
    "print (chuoi)\n",
    "\n",
    "print (chuoi.count(\"up\"))\n",
    "\n",
    "lis = chuoi.split(\" \")\n",
    "out = []\n",
    "for i in range(len(lis)):\n",
    "    if lis[i] == \"up\":\n",
    "        out.append(lis[i - 2])\n",
    "print (out)"
   ]
  },
  {
   "cell_type": "code",
   "execution_count": 3,
   "metadata": {},
   "outputs": [],
   "source": [
    "import numpy as np\n",
    "import matplotlib as mpl \n",
    "import matplotlib.pyplot as plt"
   ]
  },
  {
   "cell_type": "code",
   "execution_count": 53,
   "metadata": {},
   "outputs": [
    {
     "name": "stdout",
     "output_type": "stream",
     "text": [
      "[-1  2 -1  4 -1]\n"
     ]
    }
   ],
   "source": [
    "#21 \n",
    "x = np.array([1, 2, 3, 4, 5])\n",
    "new = np.where(x % 2 == 1, -1, x)\n",
    "print (new)"
   ]
  },
  {
   "cell_type": "code",
   "execution_count": 57,
   "metadata": {},
   "outputs": [
    {
     "name": "stdout",
     "output_type": "stream",
     "text": [
      "[[1 1]\n",
      " [1 1]\n",
      " [1 1]]\n",
      "[[1 2]\n",
      " [3 4]\n",
      " [5 6]]\n",
      "[[2 3]\n",
      " [4 5]\n",
      " [6 7]]\n",
      "[[ 0 -1]\n",
      " [-2 -3]\n",
      " [-4 -5]]\n",
      "[[1 2]\n",
      " [3 4]\n",
      " [5 6]]\n",
      "[[1.         0.5       ]\n",
      " [0.33333333 0.25      ]\n",
      " [0.2        0.16666667]]\n",
      "[[ 3  7 11]\n",
      " [ 3  7 11]\n",
      " [ 3  7 11]]\n"
     ]
    }
   ],
   "source": [
    "#22\n",
    "a = np.ones((3, 2), int)\n",
    "print (a)\n",
    "\n",
    "b = np.arange(1, 7).reshape((3, 2))\n",
    "np.random.shuffle(b)\n",
    "print (b)\n",
    "\n",
    "print(a + b)\n",
    "\n",
    "print(a - b)\n",
    "\n",
    "print(a * b)\n",
    "\n",
    "print(a / b)\n",
    "\n",
    "print(a.dot(np.transpose(b)))"
   ]
  },
  {
   "cell_type": "code",
   "execution_count": 58,
   "metadata": {},
   "outputs": [
    {
     "name": "stdout",
     "output_type": "stream",
     "text": [
      "[[ 7  5 -9  6]\n",
      " [-4  5 -5 -3]\n",
      " [ 2  4  5  8]]\n",
      "2\n",
      "[[ 5 14 -9 11]]\n",
      "[[ 9]\n",
      " [-7]\n",
      " [19]]\n",
      "[[-9  6]\n",
      " [-5 -3]]\n"
     ]
    }
   ],
   "source": [
    "#23\n",
    "a = np.random.randint(-10, 10, (3, 4))\n",
    "print (a)\n",
    "print (np.ndim(a))\n",
    "print (np.sum(a, axis = 0, keepdims = True))\n",
    "print (np.sum(a, axis = 1, keepdims = True))\n",
    "b = a [:2, 2:]\n",
    "print(b)"
   ]
  },
  {
   "cell_type": "code",
   "execution_count": 59,
   "metadata": {},
   "outputs": [
    {
     "name": "stdout",
     "output_type": "stream",
     "text": [
      "[[0 1]\n",
      " [2 3]\n",
      " [4 5]\n",
      " [6 7]\n",
      " [8 9]]\n",
      "2\n",
      "[[1 0]\n",
      " [3 2]\n",
      " [5 4]\n",
      " [7 6]\n",
      " [9 8]]\n"
     ]
    }
   ],
   "source": [
    "# 24\n",
    "a = np.arange(10)\n",
    "a = np.reshape(a, (5, 2))\n",
    "\n",
    "print (a)\n",
    "print (np.ndim(a))\n",
    "\n",
    "a[:, [1, 0 ]] = a[:, [0, 1]]\n",
    "print (a)"
   ]
  },
  {
   "cell_type": "code",
   "execution_count": 62,
   "metadata": {},
   "outputs": [
    {
     "name": "stdout",
     "output_type": "stream",
     "text": [
      "Số lượng sản phẩm trong dataset:  80\n",
      "Các sản phẩm có giá lớn hơn 50000:  Áo gió\n",
      "Các sản phẩm có giá lớn hơn 50000:  Giày\n",
      "Các sản phẩm có giá lớn hơn 50000:  Quần jean\n",
      "Các sản phẩm có giá lớn hơn 50000:  Áo len\n",
      "Các sản phẩm đã có doanh thu hơn 300000 Quần thun\n",
      "Các sản phẩm đã có doanh thu hơn 300000 Áo gió\n",
      "Các sản phẩm đã có doanh thu hơn 300000 Tất\n",
      "Các sản phẩm đã có doanh thu hơn 300000 Áo len\n"
     ]
    }
   ],
   "source": [
    "#25\n",
    "dataset = np.array([\n",
    "['Quần thun', 10, 50000],\n",
    "['Áo gió', 5, 90000],\n",
    "['Tất', 50, 8000],\n",
    "['Giày', 1, 200000],\n",
    "['Mũ', 1, 30000],\n",
    "['Quần jean', 3, 100000],\n",
    "['Áo len', 10, 100000],\n",
    "])\n",
    "so_luong = 0\n",
    "for i in dataset[:, [1]]:\n",
    "    so_luong += int(i)\n",
    "print (\"Số lượng sản phẩm trong dataset: \", so_luong)\n",
    "\n",
    "for i in range(len(dataset)):\n",
    "    if int(dataset[i, 2]) > 50000:\n",
    "        print (\"Các sản phẩm có giá lớn hơn 50000: \", dataset[i, 0])\n",
    "\n",
    "\n",
    "for i in range(len(dataset)):\n",
    "    if (int(dataset[i, 2]) * int(dataset[i, 1])) > 300000:\n",
    "        print (\"Các sản phẩm đã có doanh thu hơn 300000\", dataset[i, 0])"
   ]
  },
  {
   "cell_type": "code",
   "execution_count": 63,
   "metadata": {},
   "outputs": [
    {
     "name": "stdout",
     "output_type": "stream",
     "text": [
      "[ 1  2  3  4  5  6  7  8  9 10 11 12]\n",
      "[66 84 11 81 89 71 12 17 80 50 42 76]\n"
     ]
    },
    {
     "data": {
      "text/plain": [
       "[<matplotlib.lines.Line2D at 0x1deb1480160>]"
      ]
     },
     "execution_count": 63,
     "metadata": {},
     "output_type": "execute_result"
    },
    {
     "data": {
      "image/png": "[encoded data removed]",
      "text/plain": [
       "<Figure size 432x288 with 1 Axes>"
      ]
     },
     "metadata": {
      "needs_background": "light"
     },
     "output_type": "display_data"
    }
   ],
   "source": [
    "#26\n",
    "m = np.array([1, 2, 3, 4, 5, 6, 7, 8, 9, 10, 11, 12])\n",
    "prof = np.random.randint(0, 100, size = 12)\n",
    "print (m)\n",
    "print (prof)\n",
    "plt.title(\"Profit\")\n",
    "plt.xlabel(\"Months\")\n",
    "plt.ylabel(\"Profit\")\n",
    "plt.xticks(m)\n",
    "plt.yticks(prof)\n",
    "plt.plot(m, prof, 'g*-')\n"
   ]
  },
  {
   "cell_type": "code",
   "execution_count": 64,
   "metadata": {},
   "outputs": [
    {
     "name": "stdout",
     "output_type": "stream",
     "text": [
      "[ 1  2  3  4  5  6  7  8  9 10 11 12]\n",
      "[49 17 43 53 92 91 61 30 27  1 40 72]\n",
      "[92 84 78 82  3 84  2 75 50  1 45 51]\n"
     ]
    },
    {
     "data": {
      "text/plain": [
       "<matplotlib.legend.Legend at 0x1deb15924f0>"
      ]
     },
     "execution_count": 64,
     "metadata": {},
     "output_type": "execute_result"
    },
    {
     "data": {
      "image/png": "[encoded data removed]",
      "text/plain": [
       "<Figure size 432x288 with 1 Axes>"
      ]
     },
     "metadata": {
      "needs_background": "light"
     },
     "output_type": "display_data"
    }
   ],
   "source": [
    "#27a\n",
    "m = np.array([1, 2, 3, 4, 5, 6, 7, 8, 9, 10, 11, 12])\n",
    "profA = np.random.randint(0, 100, size = 12)\n",
    "profB = np.random.randint(0, 100, size = 12)\n",
    "print (m)\n",
    "print (profA)\n",
    "print (profB)\n",
    "plt.title(\"Profit\")\n",
    "plt.xlabel(\"Months\")\n",
    "plt.xticks(m)\n",
    "plt.ylabel(\"Profit\")\n",
    "plt.yticks(prof)\n",
    "plt.plot(m, profA, 'g*-', label = \"Doanh nghiep A\")\n",
    "plt.plot(m, profB, 'r*-', label = \"Doanh nghiep B\")\n",
    "plt.legend()\n"
   ]
  },
  {
   "cell_type": "code",
   "execution_count": 66,
   "metadata": {},
   "outputs": [
    {
     "data": {
      "text/plain": [
       "[<matplotlib.axis.XTick at 0x1deb18053a0>,\n",
       " <matplotlib.axis.XTick at 0x1deb1805370>,\n",
       " <matplotlib.axis.XTick at 0x1deb17ff130>,\n",
       " <matplotlib.axis.XTick at 0x1deb1879c40>,\n",
       " <matplotlib.axis.XTick at 0x1deb18833d0>,\n",
       " <matplotlib.axis.XTick at 0x1deb1883b20>,\n",
       " <matplotlib.axis.XTick at 0x1deb18837c0>,\n",
       " <matplotlib.axis.XTick at 0x1deb1864f10>,\n",
       " <matplotlib.axis.XTick at 0x1deb1889190>,\n",
       " <matplotlib.axis.XTick at 0x1deb18898e0>,\n",
       " <matplotlib.axis.XTick at 0x1deb1892070>,\n",
       " <matplotlib.axis.XTick at 0x1deb18927c0>]"
      ]
     },
     "execution_count": 66,
     "metadata": {},
     "output_type": "execute_result"
    },
    {
     "data": {
      "image/png": "[encoded data removed]",
      "text/plain": [
       "<Figure size 432x288 with 4 Axes>"
      ]
     },
     "metadata": {
      "needs_background": "light"
     },
     "output_type": "display_data"
    }
   ],
   "source": [
    "#27b\n",
    "m = np.array([1, 2, 3, 4, 5, 6, 7, 8, 9, 10, 11, 12])\n",
    "profA = np.random.randint(0, 100, size = 12)\n",
    "profB = np.random.randint(0, 100, size = 12)\n",
    "profC = np.random.randint(0, 100, size = 12)\n",
    "profD = np.random.randint(0, 100, size = 12)\n",
    "fig, ((A, B), (C, D)) = plt.subplots(2, 2)\n",
    "\n",
    "A.plot(m, profA)\n",
    "A.set_title(\"A\")\n",
    "A.set_xticks(m)\n",
    "\n",
    "\n",
    "\n",
    "B.plot(m, profB)\n",
    "B.set_title(\"B\")\n",
    "B.set_xticks(m)\n",
    "\n",
    "\n",
    "C.plot(m, profC)\n",
    "C.set_title(\"C\")\n",
    "C.set_xticks(m)\n",
    "\n",
    "\n",
    "D.plot(m, profD)\n",
    "D.set_title(\"D\")\n",
    "D.set_xticks(m)"
   ]
  },
  {
   "cell_type": "code",
   "execution_count": 68,
   "metadata": {},
   "outputs": [
    {
     "data": {
      "text/plain": [
       "[<matplotlib.axis.XTick at 0x1deb2ae9e50>,\n",
       " <matplotlib.axis.XTick at 0x1deb2ae9e20>,\n",
       " <matplotlib.axis.XTick at 0x1deb2ae9550>,\n",
       " <matplotlib.axis.XTick at 0x1deb2b62760>,\n",
       " <matplotlib.axis.XTick at 0x1deb2b67040>,\n",
       " <matplotlib.axis.XTick at 0x1deb2b67640>,\n",
       " <matplotlib.axis.XTick at 0x1deb2b62a30>,\n",
       " <matplotlib.axis.XTick at 0x1deb2b46d90>,\n",
       " <matplotlib.axis.XTick at 0x1deb2b67d00>,\n",
       " <matplotlib.axis.XTick at 0x1deb2b72490>,\n",
       " <matplotlib.axis.XTick at 0x1deb2b72be0>,\n",
       " <matplotlib.axis.XTick at 0x1deb2b77370>]"
      ]
     },
     "execution_count": 68,
     "metadata": {},
     "output_type": "execute_result"
    },
    {
     "data": {
      "image/png": "[encoded data removed]",
      "text/plain": [
       "<Figure size 432x288 with 4 Axes>"
      ]
     },
     "metadata": {
      "needs_background": "light"
     },
     "output_type": "display_data"
    }
   ],
   "source": [
    "#28\n",
    "m = np.array([1, 2, 3, 4, 5, 6, 7, 8, 9, 10, 11, 12])\n",
    "profA = np.random.randint(0, 100, size = 12)\n",
    "profB = np.random.randint(0, 100, size = 12)\n",
    "profC = np.random.randint(0, 100, size = 12)\n",
    "profD = np.random.randint(0, 100, size = 12)\n",
    "fig, ((A, B), (C, D)) = plt.subplots(2, 2)\n",
    "\n",
    "A.plot(m, profA, 'r*--')\n",
    "A.set_title(\"A\")\n",
    "A.set_xticks(m)\n",
    "\n",
    "\n",
    "\n",
    "B.plot(m, profB, 'gD-')\n",
    "B.set_title(\"B\")\n",
    "B.set_xticks(m)\n",
    "\n",
    "\n",
    "C.plot(m, profC, 'b:')\n",
    "C.set_title(\"C\")\n",
    "C.set_xticks(m)\n",
    "\n",
    "\n",
    "D.plot(m, profD, 'o')\n",
    "D.set_title(\"D\")\n",
    "D.set_xticks(m)"
   ]
  },
  {
   "cell_type": "code",
   "execution_count": 10,
   "metadata": {
    "scrolled": true
   },
   "outputs": [
    {
     "data": {
      "text/plain": [
       "<matplotlib.legend.Legend at 0x2638c674880>"
      ]
     },
     "execution_count": 10,
     "metadata": {},
     "output_type": "execute_result"
    },
    {
     "data": {
      "image/png": "[encoded data removed]",
      "text/plain": [
       "<Figure size 432x288 with 1 Axes>"
      ]
     },
     "metadata": {
      "needs_background": "light"
     },
     "output_type": "display_data"
    }
   ],
   "source": [
    "#29\n",
    "data = {'10-20':[10, 15], \n",
    "        '20-30':[50, 75], \n",
    "        '30-40':[40, 55], \n",
    "        '40-50':[30, 25]}\n",
    "\n",
    "a = list(data.keys())\n",
    "male = list(data[i][0] for i in data)\n",
    "fe = list([data[i][1] for i in data])\n",
    "\n",
    "pos = np.arange(len(data))\n",
    "fig = plt.figure()\n",
    "\n",
    "plt.bar(pos, male, color = \"r\", width = 0.25, label = 'male')\n",
    "plt.bar(pos + 0.25, fe, color = \"g\", width = 0.25, label = 'female')\n",
    "\n",
    "plt.xlabel(\"Ages\")\n",
    "plt.ylabel(\"Number\")\n",
    "plt.xticks([i + 0.25 for i in range(len(male))], a)\n",
    "plt.legend()"
   ]
  },
  {
   "cell_type": "code",
   "execution_count": 11,
   "metadata": {},
   "outputs": [
    {
     "data": {
      "image/png": "[encoded data removed]",
      "text/plain": [
       "<Figure size 432x288 with 1 Axes>"
      ]
     },
     "metadata": {},
     "output_type": "display_data"
    }
   ],
   "source": [
    "    #30\n",
    "transport = {'car': 0.2, 'bus': 0.5, 'bike': 0.2, 'motorbike': 0.1}\n",
    "a = transport.keys()\n",
    "b = transport.values()\n",
    "plt.pie(b, labels = a)\n",
    "plt.title(\"Tỉ lệ sử dụng phương tiện giao thông:\")\n",
    "plt.show()\n"
   ]
  },
  {
   "cell_type": "code",
   "execution_count": 12,
   "metadata": {},
   "outputs": [
    {
     "data": {
      "image/png": "[encoded data removed]",
      "text/plain": [
       "<Figure size 432x288 with 1 Axes>"
      ]
     },
     "metadata": {
      "needs_background": "light"
     },
     "output_type": "display_data"
    }
   ],
   "source": [
    "#31\n",
    "s  = np.random.randint(1, 11, size = 1000)\n",
    "plt.hist(s, bins = 10)\n",
    "plt.xticks(np.arange(11))\n",
    "plt.show()\n"
   ]
  },
  {
   "cell_type": "code",
   "execution_count": 13,
   "metadata": {},
   "outputs": [
    {
     "data": {
      "image/png": "[encoded data removed]",
      "text/plain": [
       "<Figure size 432x288 with 1 Axes>"
      ]
     },
     "metadata": {
      "needs_background": "light"
     },
     "output_type": "display_data"
    }
   ],
   "source": [
    "#32\n",
    "s  = np.random.randint(1, 11, size = 1000)\n",
    "plt.boxplot(s)\n",
    "plt.yticks(np.arange(11))\n",
    "plt.show()"
   ]
  },
  {
   "cell_type": "code",
   "execution_count": 48,
   "metadata": {},
   "outputs": [
    {
     "name": "stdout",
     "output_type": "stream",
     "text": [
      "Columns:  14 Rows:  506\n"
     ]
    },
    {
     "data": {
      "text/html": [
       "<div>\n",
       "<style scoped>\n",
       "    .dataframe tbody tr th:only-of-type {\n",
       "        vertical-align: middle;\n",
       "    }\n",
       "\n",
       "    .dataframe tbody tr th {\n",
       "        vertical-align: top;\n",
       "    }\n",
       "\n",
       "    .dataframe thead th {\n",
       "        text-align: right;\n",
       "    }\n",
       "</style>\n",
       "<table border=\"1\" class=\"dataframe\">\n",
       "  <thead>\n",
       "    <tr style=\"text-align: right;\">\n",
       "      <th></th>\n",
       "      <th>CRIM</th>\n",
       "      <th>ZN</th>\n",
       "      <th>INDUS</th>\n",
       "      <th>CHAS</th>\n",
       "      <th>NOX</th>\n",
       "      <th>RM</th>\n",
       "      <th>AGE</th>\n",
       "      <th>DIS</th>\n",
       "      <th>RAD</th>\n",
       "      <th>TAX</th>\n",
       "      <th>PTRATIO</th>\n",
       "      <th>B</th>\n",
       "      <th>LSTAT</th>\n",
       "      <th>MEDV</th>\n",
       "    </tr>\n",
       "  </thead>\n",
       "  <tbody>\n",
       "    <tr>\n",
       "      <th>count</th>\n",
       "      <td>506.000000</td>\n",
       "      <td>506.000000</td>\n",
       "      <td>506.000000</td>\n",
       "      <td>506.000000</td>\n",
       "      <td>506.000000</td>\n",
       "      <td>506.000000</td>\n",
       "      <td>506.000000</td>\n",
       "      <td>506.000000</td>\n",
       "      <td>506.000000</td>\n",
       "      <td>506.000000</td>\n",
       "      <td>506.000000</td>\n",
       "      <td>506.000000</td>\n",
       "      <td>506.000000</td>\n",
       "      <td>506.000000</td>\n",
       "    </tr>\n",
       "    <tr>\n",
       "      <th>mean</th>\n",
       "      <td>3.613524</td>\n",
       "      <td>11.363636</td>\n",
       "      <td>11.136779</td>\n",
       "      <td>0.069170</td>\n",
       "      <td>0.554695</td>\n",
       "      <td>6.284634</td>\n",
       "      <td>68.574901</td>\n",
       "      <td>3.795043</td>\n",
       "      <td>9.549407</td>\n",
       "      <td>408.237154</td>\n",
       "      <td>18.455534</td>\n",
       "      <td>356.674032</td>\n",
       "      <td>12.653063</td>\n",
       "      <td>22.532806</td>\n",
       "    </tr>\n",
       "    <tr>\n",
       "      <th>std</th>\n",
       "      <td>8.601545</td>\n",
       "      <td>23.322453</td>\n",
       "      <td>6.860353</td>\n",
       "      <td>0.253994</td>\n",
       "      <td>0.115878</td>\n",
       "      <td>0.702617</td>\n",
       "      <td>28.148861</td>\n",
       "      <td>2.105710</td>\n",
       "      <td>8.707259</td>\n",
       "      <td>168.537116</td>\n",
       "      <td>2.164946</td>\n",
       "      <td>91.294864</td>\n",
       "      <td>7.141062</td>\n",
       "      <td>9.197104</td>\n",
       "    </tr>\n",
       "    <tr>\n",
       "      <th>min</th>\n",
       "      <td>0.006320</td>\n",
       "      <td>0.000000</td>\n",
       "      <td>0.460000</td>\n",
       "      <td>0.000000</td>\n",
       "      <td>0.385000</td>\n",
       "      <td>3.561000</td>\n",
       "      <td>2.900000</td>\n",
       "      <td>1.129600</td>\n",
       "      <td>1.000000</td>\n",
       "      <td>187.000000</td>\n",
       "      <td>12.600000</td>\n",
       "      <td>0.320000</td>\n",
       "      <td>1.730000</td>\n",
       "      <td>5.000000</td>\n",
       "    </tr>\n",
       "    <tr>\n",
       "      <th>25%</th>\n",
       "      <td>0.082045</td>\n",
       "      <td>0.000000</td>\n",
       "      <td>5.190000</td>\n",
       "      <td>0.000000</td>\n",
       "      <td>0.449000</td>\n",
       "      <td>5.885500</td>\n",
       "      <td>45.025000</td>\n",
       "      <td>2.100175</td>\n",
       "      <td>4.000000</td>\n",
       "      <td>279.000000</td>\n",
       "      <td>17.400000</td>\n",
       "      <td>375.377500</td>\n",
       "      <td>6.950000</td>\n",
       "      <td>17.025000</td>\n",
       "    </tr>\n",
       "    <tr>\n",
       "      <th>50%</th>\n",
       "      <td>0.256510</td>\n",
       "      <td>0.000000</td>\n",
       "      <td>9.690000</td>\n",
       "      <td>0.000000</td>\n",
       "      <td>0.538000</td>\n",
       "      <td>6.208500</td>\n",
       "      <td>77.500000</td>\n",
       "      <td>3.207450</td>\n",
       "      <td>5.000000</td>\n",
       "      <td>330.000000</td>\n",
       "      <td>19.050000</td>\n",
       "      <td>391.440000</td>\n",
       "      <td>11.360000</td>\n",
       "      <td>21.200000</td>\n",
       "    </tr>\n",
       "    <tr>\n",
       "      <th>75%</th>\n",
       "      <td>3.677083</td>\n",
       "      <td>12.500000</td>\n",
       "      <td>18.100000</td>\n",
       "      <td>0.000000</td>\n",
       "      <td>0.624000</td>\n",
       "      <td>6.623500</td>\n",
       "      <td>94.075000</td>\n",
       "      <td>5.188425</td>\n",
       "      <td>24.000000</td>\n",
       "      <td>666.000000</td>\n",
       "      <td>20.200000</td>\n",
       "      <td>396.225000</td>\n",
       "      <td>16.955000</td>\n",
       "      <td>25.000000</td>\n",
       "    </tr>\n",
       "    <tr>\n",
       "      <th>max</th>\n",
       "      <td>88.976200</td>\n",
       "      <td>100.000000</td>\n",
       "      <td>27.740000</td>\n",
       "      <td>1.000000</td>\n",
       "      <td>0.871000</td>\n",
       "      <td>8.780000</td>\n",
       "      <td>100.000000</td>\n",
       "      <td>12.126500</td>\n",
       "      <td>24.000000</td>\n",
       "      <td>711.000000</td>\n",
       "      <td>22.000000</td>\n",
       "      <td>396.900000</td>\n",
       "      <td>37.970000</td>\n",
       "      <td>50.000000</td>\n",
       "    </tr>\n",
       "  </tbody>\n",
       "</table>\n",
       "</div>"
      ],
      "text/plain": [
       "             CRIM          ZN       INDUS        CHAS         NOX          RM  \\\n",
       "count  506.000000  506.000000  506.000000  506.000000  506.000000  506.000000   \n",
       "mean     3.613524   11.363636   11.136779    0.069170    0.554695    6.284634   \n",
       "std      8.601545   23.322453    6.860353    0.253994    0.115878    0.702617   \n",
       "min      0.006320    0.000000    0.460000    0.000000    0.385000    3.561000   \n",
       "25%      0.082045    0.000000    5.190000    0.000000    0.449000    5.885500   \n",
       "50%      0.256510    0.000000    9.690000    0.000000    0.538000    6.208500   \n",
       "75%      3.677083   12.500000   18.100000    0.000000    0.624000    6.623500   \n",
       "max     88.976200  100.000000   27.740000    1.000000    0.871000    8.780000   \n",
       "\n",
       "              AGE         DIS         RAD         TAX     PTRATIO           B  \\\n",
       "count  506.000000  506.000000  506.000000  506.000000  506.000000  506.000000   \n",
       "mean    68.574901    3.795043    9.549407  408.237154   18.455534  356.674032   \n",
       "std     28.148861    2.105710    8.707259  168.537116    2.164946   91.294864   \n",
       "min      2.900000    1.129600    1.000000  187.000000   12.600000    0.320000   \n",
       "25%     45.025000    2.100175    4.000000  279.000000   17.400000  375.377500   \n",
       "50%     77.500000    3.207450    5.000000  330.000000   19.050000  391.440000   \n",
       "75%     94.075000    5.188425   24.000000  666.000000   20.200000  396.225000   \n",
       "max    100.000000   12.126500   24.000000  711.000000   22.000000  396.900000   \n",
       "\n",
       "            LSTAT        MEDV  \n",
       "count  506.000000  506.000000  \n",
       "mean    12.653063   22.532806  \n",
       "std      7.141062    9.197104  \n",
       "min      1.730000    5.000000  \n",
       "25%      6.950000   17.025000  \n",
       "50%     11.360000   21.200000  \n",
       "75%     16.955000   25.000000  \n",
       "max     37.970000   50.000000  "
      ]
     },
     "execution_count": 48,
     "metadata": {},
     "output_type": "execute_result"
    }
   ],
   "source": [
    "import pandas as pd\n",
    "data = pd.read_csv(\"housing.data\", sep='\\s+', header=None)\n",
    "data.columns = ['CRIM', 'ZN', 'INDUS', 'CHAS', 'NOX', 'RM', 'AGE', 'DIS', 'RAD', 'TAX', 'PTRATIO', 'B', 'LSTAT', 'MEDV']\n",
    "print (\"Columns: \", len(data.columns), \"Rows: \", len(data.index))\n",
    "\n",
    "data.describe()\n"
   ]
  },
  {
   "cell_type": "code",
   "execution_count": 53,
   "metadata": {},
   "outputs": [
    {
     "data": {
      "text/html": [
       "<div>\n",
       "<style scoped>\n",
       "    .dataframe tbody tr th:only-of-type {\n",
       "        vertical-align: middle;\n",
       "    }\n",
       "\n",
       "    .dataframe tbody tr th {\n",
       "        vertical-align: top;\n",
       "    }\n",
       "\n",
       "    .dataframe thead th {\n",
       "        text-align: right;\n",
       "    }\n",
       "</style>\n",
       "<table border=\"1\" class=\"dataframe\">\n",
       "  <thead>\n",
       "    <tr style=\"text-align: right;\">\n",
       "      <th></th>\n",
       "      <th>CRIM</th>\n",
       "      <th>ZN</th>\n",
       "      <th>INDUS</th>\n",
       "      <th>CHAS</th>\n",
       "      <th>NOX</th>\n",
       "      <th>RM</th>\n",
       "      <th>AGE</th>\n",
       "      <th>DIS</th>\n",
       "      <th>RAD</th>\n",
       "      <th>TAX</th>\n",
       "      <th>PTRATIO</th>\n",
       "      <th>B</th>\n",
       "      <th>LSTAT</th>\n",
       "      <th>MEDV</th>\n",
       "    </tr>\n",
       "  </thead>\n",
       "  <tbody>\n",
       "    <tr>\n",
       "      <th>CRIM</th>\n",
       "      <td>1.000000</td>\n",
       "      <td>-0.200469</td>\n",
       "      <td>0.406583</td>\n",
       "      <td>-0.055892</td>\n",
       "      <td>0.420972</td>\n",
       "      <td>-0.219247</td>\n",
       "      <td>0.352734</td>\n",
       "      <td>-0.379670</td>\n",
       "      <td>0.625505</td>\n",
       "      <td>0.582764</td>\n",
       "      <td>0.289946</td>\n",
       "      <td>-0.385064</td>\n",
       "      <td>0.455621</td>\n",
       "      <td>-0.388305</td>\n",
       "    </tr>\n",
       "    <tr>\n",
       "      <th>ZN</th>\n",
       "      <td>-0.200469</td>\n",
       "      <td>1.000000</td>\n",
       "      <td>-0.533828</td>\n",
       "      <td>-0.042697</td>\n",
       "      <td>-0.516604</td>\n",
       "      <td>0.311991</td>\n",
       "      <td>-0.569537</td>\n",
       "      <td>0.664408</td>\n",
       "      <td>-0.311948</td>\n",
       "      <td>-0.314563</td>\n",
       "      <td>-0.391679</td>\n",
       "      <td>0.175520</td>\n",
       "      <td>-0.412995</td>\n",
       "      <td>0.360445</td>\n",
       "    </tr>\n",
       "    <tr>\n",
       "      <th>INDUS</th>\n",
       "      <td>0.406583</td>\n",
       "      <td>-0.533828</td>\n",
       "      <td>1.000000</td>\n",
       "      <td>0.062938</td>\n",
       "      <td>0.763651</td>\n",
       "      <td>-0.391676</td>\n",
       "      <td>0.644779</td>\n",
       "      <td>-0.708027</td>\n",
       "      <td>0.595129</td>\n",
       "      <td>0.720760</td>\n",
       "      <td>0.383248</td>\n",
       "      <td>-0.356977</td>\n",
       "      <td>0.603800</td>\n",
       "      <td>-0.483725</td>\n",
       "    </tr>\n",
       "    <tr>\n",
       "      <th>CHAS</th>\n",
       "      <td>-0.055892</td>\n",
       "      <td>-0.042697</td>\n",
       "      <td>0.062938</td>\n",
       "      <td>1.000000</td>\n",
       "      <td>0.091203</td>\n",
       "      <td>0.091251</td>\n",
       "      <td>0.086518</td>\n",
       "      <td>-0.099176</td>\n",
       "      <td>-0.007368</td>\n",
       "      <td>-0.035587</td>\n",
       "      <td>-0.121515</td>\n",
       "      <td>0.048788</td>\n",
       "      <td>-0.053929</td>\n",
       "      <td>0.175260</td>\n",
       "    </tr>\n",
       "    <tr>\n",
       "      <th>NOX</th>\n",
       "      <td>0.420972</td>\n",
       "      <td>-0.516604</td>\n",
       "      <td>0.763651</td>\n",
       "      <td>0.091203</td>\n",
       "      <td>1.000000</td>\n",
       "      <td>-0.302188</td>\n",
       "      <td>0.731470</td>\n",
       "      <td>-0.769230</td>\n",
       "      <td>0.611441</td>\n",
       "      <td>0.668023</td>\n",
       "      <td>0.188933</td>\n",
       "      <td>-0.380051</td>\n",
       "      <td>0.590879</td>\n",
       "      <td>-0.427321</td>\n",
       "    </tr>\n",
       "    <tr>\n",
       "      <th>RM</th>\n",
       "      <td>-0.219247</td>\n",
       "      <td>0.311991</td>\n",
       "      <td>-0.391676</td>\n",
       "      <td>0.091251</td>\n",
       "      <td>-0.302188</td>\n",
       "      <td>1.000000</td>\n",
       "      <td>-0.240265</td>\n",
       "      <td>0.205246</td>\n",
       "      <td>-0.209847</td>\n",
       "      <td>-0.292048</td>\n",
       "      <td>-0.355501</td>\n",
       "      <td>0.128069</td>\n",
       "      <td>-0.613808</td>\n",
       "      <td>0.695360</td>\n",
       "    </tr>\n",
       "    <tr>\n",
       "      <th>AGE</th>\n",
       "      <td>0.352734</td>\n",
       "      <td>-0.569537</td>\n",
       "      <td>0.644779</td>\n",
       "      <td>0.086518</td>\n",
       "      <td>0.731470</td>\n",
       "      <td>-0.240265</td>\n",
       "      <td>1.000000</td>\n",
       "      <td>-0.747881</td>\n",
       "      <td>0.456022</td>\n",
       "      <td>0.506456</td>\n",
       "      <td>0.261515</td>\n",
       "      <td>-0.273534</td>\n",
       "      <td>0.602339</td>\n",
       "      <td>-0.376955</td>\n",
       "    </tr>\n",
       "    <tr>\n",
       "      <th>DIS</th>\n",
       "      <td>-0.379670</td>\n",
       "      <td>0.664408</td>\n",
       "      <td>-0.708027</td>\n",
       "      <td>-0.099176</td>\n",
       "      <td>-0.769230</td>\n",
       "      <td>0.205246</td>\n",
       "      <td>-0.747881</td>\n",
       "      <td>1.000000</td>\n",
       "      <td>-0.494588</td>\n",
       "      <td>-0.534432</td>\n",
       "      <td>-0.232471</td>\n",
       "      <td>0.291512</td>\n",
       "      <td>-0.496996</td>\n",
       "      <td>0.249929</td>\n",
       "    </tr>\n",
       "    <tr>\n",
       "      <th>RAD</th>\n",
       "      <td>0.625505</td>\n",
       "      <td>-0.311948</td>\n",
       "      <td>0.595129</td>\n",
       "      <td>-0.007368</td>\n",
       "      <td>0.611441</td>\n",
       "      <td>-0.209847</td>\n",
       "      <td>0.456022</td>\n",
       "      <td>-0.494588</td>\n",
       "      <td>1.000000</td>\n",
       "      <td>0.910228</td>\n",
       "      <td>0.464741</td>\n",
       "      <td>-0.444413</td>\n",
       "      <td>0.488676</td>\n",
       "      <td>-0.381626</td>\n",
       "    </tr>\n",
       "    <tr>\n",
       "      <th>TAX</th>\n",
       "      <td>0.582764</td>\n",
       "      <td>-0.314563</td>\n",
       "      <td>0.720760</td>\n",
       "      <td>-0.035587</td>\n",
       "      <td>0.668023</td>\n",
       "      <td>-0.292048</td>\n",
       "      <td>0.506456</td>\n",
       "      <td>-0.534432</td>\n",
       "      <td>0.910228</td>\n",
       "      <td>1.000000</td>\n",
       "      <td>0.460853</td>\n",
       "      <td>-0.441808</td>\n",
       "      <td>0.543993</td>\n",
       "      <td>-0.468536</td>\n",
       "    </tr>\n",
       "    <tr>\n",
       "      <th>PTRATIO</th>\n",
       "      <td>0.289946</td>\n",
       "      <td>-0.391679</td>\n",
       "      <td>0.383248</td>\n",
       "      <td>-0.121515</td>\n",
       "      <td>0.188933</td>\n",
       "      <td>-0.355501</td>\n",
       "      <td>0.261515</td>\n",
       "      <td>-0.232471</td>\n",
       "      <td>0.464741</td>\n",
       "      <td>0.460853</td>\n",
       "      <td>1.000000</td>\n",
       "      <td>-0.177383</td>\n",
       "      <td>0.374044</td>\n",
       "      <td>-0.507787</td>\n",
       "    </tr>\n",
       "    <tr>\n",
       "      <th>B</th>\n",
       "      <td>-0.385064</td>\n",
       "      <td>0.175520</td>\n",
       "      <td>-0.356977</td>\n",
       "      <td>0.048788</td>\n",
       "      <td>-0.380051</td>\n",
       "      <td>0.128069</td>\n",
       "      <td>-0.273534</td>\n",
       "      <td>0.291512</td>\n",
       "      <td>-0.444413</td>\n",
       "      <td>-0.441808</td>\n",
       "      <td>-0.177383</td>\n",
       "      <td>1.000000</td>\n",
       "      <td>-0.366087</td>\n",
       "      <td>0.333461</td>\n",
       "    </tr>\n",
       "    <tr>\n",
       "      <th>LSTAT</th>\n",
       "      <td>0.455621</td>\n",
       "      <td>-0.412995</td>\n",
       "      <td>0.603800</td>\n",
       "      <td>-0.053929</td>\n",
       "      <td>0.590879</td>\n",
       "      <td>-0.613808</td>\n",
       "      <td>0.602339</td>\n",
       "      <td>-0.496996</td>\n",
       "      <td>0.488676</td>\n",
       "      <td>0.543993</td>\n",
       "      <td>0.374044</td>\n",
       "      <td>-0.366087</td>\n",
       "      <td>1.000000</td>\n",
       "      <td>-0.737663</td>\n",
       "    </tr>\n",
       "    <tr>\n",
       "      <th>MEDV</th>\n",
       "      <td>-0.388305</td>\n",
       "      <td>0.360445</td>\n",
       "      <td>-0.483725</td>\n",
       "      <td>0.175260</td>\n",
       "      <td>-0.427321</td>\n",
       "      <td>0.695360</td>\n",
       "      <td>-0.376955</td>\n",
       "      <td>0.249929</td>\n",
       "      <td>-0.381626</td>\n",
       "      <td>-0.468536</td>\n",
       "      <td>-0.507787</td>\n",
       "      <td>0.333461</td>\n",
       "      <td>-0.737663</td>\n",
       "      <td>1.000000</td>\n",
       "    </tr>\n",
       "  </tbody>\n",
       "</table>\n",
       "</div>"
      ],
      "text/plain": [
       "             CRIM        ZN     INDUS      CHAS       NOX        RM       AGE  \\\n",
       "CRIM     1.000000 -0.200469  0.406583 -0.055892  0.420972 -0.219247  0.352734   \n",
       "ZN      -0.200469  1.000000 -0.533828 -0.042697 -0.516604  0.311991 -0.569537   \n",
       "INDUS    0.406583 -0.533828  1.000000  0.062938  0.763651 -0.391676  0.644779   \n",
       "CHAS    -0.055892 -0.042697  0.062938  1.000000  0.091203  0.091251  0.086518   \n",
       "NOX      0.420972 -0.516604  0.763651  0.091203  1.000000 -0.302188  0.731470   \n",
       "RM      -0.219247  0.311991 -0.391676  0.091251 -0.302188  1.000000 -0.240265   \n",
       "AGE      0.352734 -0.569537  0.644779  0.086518  0.731470 -0.240265  1.000000   \n",
       "DIS     -0.379670  0.664408 -0.708027 -0.099176 -0.769230  0.205246 -0.747881   \n",
       "RAD      0.625505 -0.311948  0.595129 -0.007368  0.611441 -0.209847  0.456022   \n",
       "TAX      0.582764 -0.314563  0.720760 -0.035587  0.668023 -0.292048  0.506456   \n",
       "PTRATIO  0.289946 -0.391679  0.383248 -0.121515  0.188933 -0.355501  0.261515   \n",
       "B       -0.385064  0.175520 -0.356977  0.048788 -0.380051  0.128069 -0.273534   \n",
       "LSTAT    0.455621 -0.412995  0.603800 -0.053929  0.590879 -0.613808  0.602339   \n",
       "MEDV    -0.388305  0.360445 -0.483725  0.175260 -0.427321  0.695360 -0.376955   \n",
       "\n",
       "              DIS       RAD       TAX   PTRATIO         B     LSTAT      MEDV  \n",
       "CRIM    -0.379670  0.625505  0.582764  0.289946 -0.385064  0.455621 -0.388305  \n",
       "ZN       0.664408 -0.311948 -0.314563 -0.391679  0.175520 -0.412995  0.360445  \n",
       "INDUS   -0.708027  0.595129  0.720760  0.383248 -0.356977  0.603800 -0.483725  \n",
       "CHAS    -0.099176 -0.007368 -0.035587 -0.121515  0.048788 -0.053929  0.175260  \n",
       "NOX     -0.769230  0.611441  0.668023  0.188933 -0.380051  0.590879 -0.427321  \n",
       "RM       0.205246 -0.209847 -0.292048 -0.355501  0.128069 -0.613808  0.695360  \n",
       "AGE     -0.747881  0.456022  0.506456  0.261515 -0.273534  0.602339 -0.376955  \n",
       "DIS      1.000000 -0.494588 -0.534432 -0.232471  0.291512 -0.496996  0.249929  \n",
       "RAD     -0.494588  1.000000  0.910228  0.464741 -0.444413  0.488676 -0.381626  \n",
       "TAX     -0.534432  0.910228  1.000000  0.460853 -0.441808  0.543993 -0.468536  \n",
       "PTRATIO -0.232471  0.464741  0.460853  1.000000 -0.177383  0.374044 -0.507787  \n",
       "B        0.291512 -0.444413 -0.441808 -0.177383  1.000000 -0.366087  0.333461  \n",
       "LSTAT   -0.496996  0.488676  0.543993  0.374044 -0.366087  1.000000 -0.737663  \n",
       "MEDV     0.249929 -0.381626 -0.468536 -0.507787  0.333461 -0.737663  1.000000  "
      ]
     },
     "execution_count": 53,
     "metadata": {},
     "output_type": "execute_result"
    }
   ],
   "source": [
    "data.corr()"
   ]
  }
 ],
 "metadata": {
  "interpreter": {
   "hash": "f8ddc3ff1041f98b5fd235d63e8b66e5fd1ed7f283c2cbc6e0f795ab95deb4b6"
  },
  "kernelspec": {
   "display_name": "Python 3 (ipykernel)",
   "language": "python",
   "name": "python3"
  },
  "language_info": {
   "codemirror_mode": {
    "name": "ipython",
    "version": 3
   },
   "file_extension": ".py",
   "mimetype": "text/x-python",
   "name": "python",
   "nbconvert_exporter": "python",
   "pygments_lexer": "ipython3",
   "version": "3.9.12"
  }
 },
 "nbformat": 4,
 "nbformat_minor": 2
}
